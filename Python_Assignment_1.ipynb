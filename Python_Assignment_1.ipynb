{
  "nbformat": 4,
  "nbformat_minor": 0,
  "metadata": {
    "colab": {
      "name": "Python Assignment 1.ipynb",
      "provenance": [],
      "collapsed_sections": []
    },
    "kernelspec": {
      "name": "python3",
      "display_name": "Python 3"
    }
  },
  "cells": [
    {
      "cell_type": "markdown",
      "metadata": {
        "id": "GTwdD7BqVePV",
        "colab_type": "text"
      },
      "source": [
        "1.Write a program which will find all such numbers which are divisible by 7\n",
        "but are not a multiple of 5,between 2000 and 3200 (both included).The numbers obtained should be printed in a comma-seperated sequence on a single line."
      ]
    },
    {
      "cell_type": "code",
      "metadata": {
        "id": "bHiEc5Q6LRIc",
        "colab_type": "code",
        "outputId": "57eb8170-db92-4708-b318-25c04d2db804",
        "colab": {
          "base_uri": "https://localhost:8080/",
          "height": 54
        }
      },
      "source": [
        "a= 2000\n",
        "b= 3200\n",
        "\n",
        "n=[]\n",
        "for i in range(a,b+1):\n",
        "   if((i%7==0) & (i%5!=0)):\n",
        "     n.append(str(i))       \n",
        "print(\",\".join(n))\n",
        "   "
      ],
      "execution_count": 0,
      "outputs": [
        {
          "output_type": "stream",
          "text": [
            "2002,2009,2016,2023,2037,2044,2051,2058,2072,2079,2086,2093,2107,2114,2121,2128,2142,2149,2156,2163,2177,2184,2191,2198,2212,2219,2226,2233,2247,2254,2261,2268,2282,2289,2296,2303,2317,2324,2331,2338,2352,2359,2366,2373,2387,2394,2401,2408,2422,2429,2436,2443,2457,2464,2471,2478,2492,2499,2506,2513,2527,2534,2541,2548,2562,2569,2576,2583,2597,2604,2611,2618,2632,2639,2646,2653,2667,2674,2681,2688,2702,2709,2716,2723,2737,2744,2751,2758,2772,2779,2786,2793,2807,2814,2821,2828,2842,2849,2856,2863,2877,2884,2891,2898,2912,2919,2926,2933,2947,2954,2961,2968,2982,2989,2996,3003,3017,3024,3031,3038,3052,3059,3066,3073,3087,3094,3101,3108,3122,3129,3136,3143,3157,3164,3171,3178,3192,3199\n"
          ],
          "name": "stdout"
        }
      ]
    },
    {
      "cell_type": "markdown",
      "metadata": {
        "id": "5HkgmxNLYzdX",
        "colab_type": "text"
      },
      "source": [
        "2.Write a Python program to accept the user's first and last name and then getting them printed in the the reverse order with a space between first name and last name.\n"
      ]
    },
    {
      "cell_type": "code",
      "metadata": {
        "id": "CMZZz_S_m0RZ",
        "colab_type": "code",
        "outputId": "417043b6-d2b6-4351-a3d4-35ef58e77c9a",
        "colab": {
          "base_uri": "https://localhost:8080/",
          "height": 68
        }
      },
      "source": [
        "Firstname=input(\"enter your Firstname:\")\n",
        "Lastname=input(\"enter your Lastname:\")\n",
        "Revorder = Firstname+\" \"+Lastname\n",
        "print(Revorder[::-1])\n"
      ],
      "execution_count": 0,
      "outputs": [
        {
          "output_type": "stream",
          "text": [
            "enter your Firstname:B\n",
            "enter your Lastname:Seshadri\n",
            "irdahseS B\n"
          ],
          "name": "stdout"
        }
      ]
    },
    {
      "cell_type": "markdown",
      "metadata": {
        "id": "mWviircWLNWn",
        "colab_type": "text"
      },
      "source": [
        "3.Write a Python program to find the volume of a sphere with diameter 12 cm."
      ]
    },
    {
      "cell_type": "code",
      "metadata": {
        "id": "OqsRSatFvUPg",
        "colab_type": "code",
        "outputId": "9168a5c9-bdec-4b49-be1a-f191118e83aa",
        "colab": {
          "base_uri": "https://localhost:8080/",
          "height": 34
        }
      },
      "source": [
        "pi= 3.14\n",
        "r=6.0\n",
        "v=4.0/3.0*pi*r**3\n",
        "print (\"the volume of a sphere is : \",v)"
      ],
      "execution_count": 0,
      "outputs": [
        {
          "output_type": "stream",
          "text": [
            "the volume of a sphere is :  904.3199999999999\n"
          ],
          "name": "stdout"
        }
      ]
    }
  ]
}