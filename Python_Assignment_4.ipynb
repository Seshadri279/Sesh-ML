{
  "nbformat": 4,
  "nbformat_minor": 0,
  "metadata": {
    "colab": {
      "name": "Python Assignment 4.ipynb",
      "provenance": []
    },
    "kernelspec": {
      "name": "python3",
      "display_name": "Python 3"
    }
  },
  "cells": [
    {
      "cell_type": "markdown",
      "metadata": {
        "id": "lM-18w3AG66C",
        "colab_type": "text"
      },
      "source": [
        "1.1Write a Python Program(with class concepts) to find the area of the triangle using the below\n",
        "formula.\n",
        "area = (s*(s-a)*(s-b)*(s-c)) ** 0.5\n",
        "Function to take the length of the sides of triangle from user should be defined in the parent\n",
        "class and function to calculate the area should be defined in subclass."
      ]
    },
    {
      "cell_type": "code",
      "metadata": {
        "id": "RBpOawqSGxPK",
        "colab_type": "code",
        "colab": {
          "base_uri": "https://localhost:8080/",
          "height": 34
        },
        "outputId": "2799240f-7dd4-4931-d479-79c3d78df2fb"
      },
      "source": [
        "class Triangle:\n",
        "    def __init__(self,a,b,c):\n",
        "        self.a=a\n",
        "        self.b=b\n",
        "        self.c=c\n",
        "class Area(Triangle):     \n",
        "    def __init__(self,*args):\n",
        "        super(Area, self).__init__(*args) \n",
        "    def cal_area(self):                     \n",
        "        s=(self.a+self.b+self.c)/2\n",
        "        area = (s*(s-self.a)*(s-self.b)*(s-self.c))**0.5    \n",
        "        return area\n",
        "\n",
        "sides = Area(10,10,10)\n",
        "area = sides.cal_area()\n",
        "print(\"the area of a triangle is : \",area)"
      ],
      "execution_count": 9,
      "outputs": [
        {
          "output_type": "stream",
          "text": [
            "the area of a triangle is :  43.30127018922193\n"
          ],
          "name": "stdout"
        }
      ]
    },
    {
      "cell_type": "markdown",
      "metadata": {
        "id": "rdKn9HPcgPmE",
        "colab_type": "text"
      },
      "source": [
        "1.2 Write a function filter_long_words() that takes a list of words and an integer n and returns\n",
        "the list of words that are longer than n."
      ]
    },
    {
      "cell_type": "code",
      "metadata": {
        "id": "jAxyoqMdYMXo",
        "colab_type": "code",
        "colab": {
          "base_uri": "https://localhost:8080/",
          "height": 68
        },
        "outputId": "ccf8d739-04b0-4376-b256-d7ae1d0192b9"
      },
      "source": [
        "def filter_long_words():\n",
        "  inputstrngs= input(\"enter the words:\")\n",
        "  integer=int(input(\"enter the integer:\"))\n",
        "  words_lst=inputstrngs.split()\n",
        "  words_n =[]\n",
        "  for i in words_lst:\n",
        "    if (len(i)>integer):\n",
        "      words_n.append(i)\n",
        "  return words_n\n",
        "\n",
        "filter_long_words()  "
      ],
      "execution_count": 1,
      "outputs": [
        {
          "output_type": "stream",
          "text": [
            "enter the words:Learning python for data science in Ineuron\n",
            "enter the integer:4\n"
          ],
          "name": "stdout"
        },
        {
          "output_type": "execute_result",
          "data": {
            "text/plain": [
              "['Learning', 'python', 'science', 'Ineuron']"
            ]
          },
          "metadata": {
            "tags": []
          },
          "execution_count": 1
        }
      ]
    },
    {
      "cell_type": "markdown",
      "metadata": {
        "id": "TYBQoyDCiK49",
        "colab_type": "text"
      },
      "source": [
        "2.1 Write a Python program using function concept that maps list of words into a list of integers\n",
        "representing the lengths of the corresponding words."
      ]
    },
    {
      "cell_type": "code",
      "metadata": {
        "id": "J5KIq0UChL0P",
        "colab_type": "code",
        "colab": {
          "base_uri": "https://localhost:8080/",
          "height": 51
        },
        "outputId": "610c948e-a46a-4d1a-ab8a-5da35017d0a3"
      },
      "source": [
        "def words_len():\n",
        "  inputstrngs= input(\"enter the words:\")\n",
        "  words_lst=inputstrngs.split()\n",
        "  words_n =[]\n",
        "  for i in words_lst:\n",
        "    words_n.append(len(i))\n",
        "  return words_n\n",
        "\n",
        "words_len()"
      ],
      "execution_count": 2,
      "outputs": [
        {
          "output_type": "stream",
          "text": [
            "enter the words:this is test \n"
          ],
          "name": "stdout"
        },
        {
          "output_type": "execute_result",
          "data": {
            "text/plain": [
              "[4, 2, 4]"
            ]
          },
          "metadata": {
            "tags": []
          },
          "execution_count": 2
        }
      ]
    },
    {
      "cell_type": "markdown",
      "metadata": {
        "id": "lT2GxuoYiY1T",
        "colab_type": "text"
      },
      "source": [
        "2.2 Write a Python function which takes a character (i.e. a string of length 1) and returns True if\n",
        "it is a vowel, False otherwise."
      ]
    },
    {
      "cell_type": "code",
      "metadata": {
        "id": "_y8QfIQNibHc",
        "colab_type": "code",
        "colab": {
          "base_uri": "https://localhost:8080/",
          "height": 51
        },
        "outputId": "7ff6358b-1b76-4788-d6ed-496eaff73143"
      },
      "source": [
        "def vowel_check():\n",
        "  char=input(\"enter the char for vowel test:\")\n",
        "  vowels=['a','e','i','o','u']\n",
        "  if char.lower() in vowels:\n",
        "    print(\"True\")\n",
        "  else:\n",
        "    print(\"False\")\n",
        "    \n",
        "\n",
        "  \n",
        "vowel_check()  "
      ],
      "execution_count": 40,
      "outputs": [
        {
          "output_type": "stream",
          "text": [
            "enter the char for vowel test:f\n",
            "False\n"
          ],
          "name": "stdout"
        }
      ]
    }
  ]
}