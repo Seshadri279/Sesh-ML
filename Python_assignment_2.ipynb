{
  "nbformat": 4,
  "nbformat_minor": 0,
  "metadata": {
    "colab": {
      "name": "Python assignment 2.ipynb",
      "provenance": [],
      "collapsed_sections": []
    },
    "kernelspec": {
      "name": "python3",
      "display_name": "Python 3"
    }
  },
  "cells": [
    {
      "cell_type": "markdown",
      "metadata": {
        "id": "mWviircWLNWn",
        "colab_type": "text"
      },
      "source": [
        "1.Create the below pattern using nested for loop in Python."
      ]
    },
    {
      "cell_type": "code",
      "metadata": {
        "id": "FApbTh3cwxYd",
        "colab_type": "code",
        "outputId": "44127683-94e3-4214-fd32-2eaf626699f5",
        "colab": {
          "base_uri": "https://localhost:8080/",
          "height": 204
        }
      },
      "source": [
        "num=int(input(\"enter the lines:\"))\n",
        "for i in range(1,num+1):\n",
        "  for j in range(1,i+1):\n",
        "    print(\"*\",end=\"\")\n",
        "  print()\n",
        "for i in range(1,num+1):\n",
        "  for l in range(i,num):\n",
        "    print(\"*\",end=\"\")\n",
        "  print()\n",
        "    \n",
        "    \n"
      ],
      "execution_count": 1,
      "outputs": [
        {
          "output_type": "stream",
          "text": [
            "enter the lines:5\n",
            "*\n",
            "**\n",
            "***\n",
            "****\n",
            "*****\n",
            "****\n",
            "***\n",
            "**\n",
            "*\n",
            "\n"
          ],
          "name": "stdout"
        }
      ]
    },
    {
      "cell_type": "markdown",
      "metadata": {
        "id": "QdcA0EjMy9Z9",
        "colab_type": "text"
      },
      "source": [
        "2.Write a Python program to reverse a word after accepting the input from the user."
      ]
    },
    {
      "cell_type": "code",
      "metadata": {
        "id": "SboQ57WAyEJW",
        "colab_type": "code",
        "outputId": "990961b2-25d8-4820-9a85-3c6fa6d76bf9",
        "colab": {
          "base_uri": "https://localhost:8080/",
          "height": 51
        }
      },
      "source": [
        "Inputword=str(input(\"Enter the Inputword:\"))\n",
        "print(Inputword[::-1])"
      ],
      "execution_count": 2,
      "outputs": [
        {
          "output_type": "stream",
          "text": [
            "Enter the Inputword:Bangalore\n",
            "erolagnaB\n"
          ],
          "name": "stdout"
        }
      ]
    }
  ]
}